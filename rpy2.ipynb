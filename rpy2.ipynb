{
 "cells": [
  {
   "cell_type": "code",
   "execution_count": 12,
   "metadata": {},
   "outputs": [],
   "source": [
    "import os\n",
    "# os.environ['R_HOME'] = '/usr/lib/R'\n",
    "# os.environ['R_HOME'] = r'C:\\Program Files\\R\\R-4.3.1\\bin'\n",
    "os.environ['R_HOME'] = r'C:\\Program Files\\R\\R-4.3.1'\n",
    "# os.environ['R_USER'] = r'C:\\Users\\Student\\anaconda3\\envs\\general\\Lib\\site-packages\\rpy2'\n",
    "\n",
    "import rpy2\n",
    "import rpy2.robjects as ro\n",
    "from rpy2.robjects.packages import importr, data\n",
    "import rpy2.robjects.packages as rpackages\n",
    "import rpy2.robjects as robjects\n",
    "from rpy2.robjects import pandas2ri\n",
    "from rpy2.robjects.conversion import localconverter\n",
    "\n",
    "import pandas as pd\n",
    "\n",
    "import matplotlib.pyplot as plt\n",
    "import matplotlib.ticker as tck\n",
    "from matplotlib import rc, rcParams\n",
    "import matplotlib.dates as mdates"
   ]
  },
  {
   "cell_type": "code",
   "execution_count": 2,
   "metadata": {},
   "outputs": [],
   "source": [
    "base = importr('base')\n",
    "rict = importr('rict')"
   ]
  },
  {
   "cell_type": "code",
   "execution_count": 3,
   "metadata": {},
   "outputs": [],
   "source": [
    "pd_df = pd.read_csv('new-input-file-data-to-use-multi-year-1.txt')\n",
    "with localconverter(ro.default_converter + pandas2ri.converter):\n",
    "  r_from_pd_df = ro.conversion.py2rpy(pd_df)"
   ]
  },
  {
   "cell_type": "code",
   "execution_count": 4,
   "metadata": {},
   "outputs": [
    {
     "name": "stderr",
     "output_type": "stream",
     "text": [
      "R[write to console]: Variables for the 'physical' model detected - applying relevant checks. \n",
      "\n",
      "R[write to console]: Grid reference values detected for 'GB' - applying relevant checks.\n",
      "\n",
      "R[write to console]: Success, all validation checks passed!\n",
      "\n",
      "R[write to console]: Classifying...\n",
      "\n"
     ]
    }
   ],
   "source": [
    "result = rict.rict(r_from_pd_df, year_type=\"multi\", store_eqrs=True, seed=True)"
   ]
  },
  {
   "cell_type": "code",
   "execution_count": 5,
   "metadata": {},
   "outputs": [
    {
     "data": {
      "text/html": [
       "\n",
       "        <span>R/rpy2 DataFrame (300030 x 5)</span>\n",
       "        <table>\n",
       "          <thead>\n",
       "            <tr>\n",
       "              \n",
       "              <th>ID</th>\n",
       "              \n",
       "              <th>SITE</th>\n",
       "              \n",
       "              <th>YEAR</th>\n",
       "              \n",
       "              <th>EQR</th>\n",
       "              \n",
       "              <th>EQR Metrics</th>\n",
       "              \n",
       "            </tr>\n",
       "          </thead>\n",
       "          <tbody>\n",
       "          \n",
       "          <tr>\n",
       "            \n",
       "            <td>\n",
       "              ...\n",
       "            </td>\n",
       "            \n",
       "            <td>\n",
       "              ...\n",
       "            </td>\n",
       "            \n",
       "            <td>\n",
       "              ...\n",
       "            </td>\n",
       "            \n",
       "            <td>\n",
       "              ...\n",
       "            </td>\n",
       "            \n",
       "            <td>\n",
       "              ...\n",
       "            </td>\n",
       "            \n",
       "          </tr>\n",
       "          \n",
       "          </tbody>\n",
       "        </table>\n",
       "    "
      ],
      "text/plain": [
       "<rpy2.robjects.vectors.DataFrame object at 0x000001A914BD89C0> [RTYPES.VECSXP]\n",
       "R classes: ('data.frame',)\n",
       "[IntSexp..., StrSexp..., IntSexp..., FloatSe..., StrSexp...]\n",
       "  ID: <class 'rpy2.rinterface.IntSexpVector'>\n",
       "  <rpy2.rinterface.IntSexpVector object at 0x000001A914A83900> [RTYPES.INTSXP]\n",
       "  SITE: <class 'rpy2.rinterface_lib.sexp.StrSexpVector'>\n",
       "  <rpy2.rinterface_lib.sexp.StrSexpVector object at 0x000001A914A848C0> [RTYPES.STRSXP]\n",
       "  YEAR: <class 'rpy2.rinterface.IntSexpVector'>\n",
       "  <rpy2.rinterface.IntSexpVector object at 0x000001A914A84CC0> [RTYPES.INTSXP]\n",
       "  EQR: <class 'rpy2.rinterface.FloatSexpVector'>\n",
       "  <rpy2.rinterface.FloatSexpVector object at 0x000001A914A848C0> [RTYPES.REALSXP]\n",
       "  EQR Metrics: <class 'rpy2.rinterface_lib.sexp.StrSexpVector'>\n",
       "  <rpy2.rinterface_lib.sexp.StrSexpVector object at 0x000001A914A84C00> [RTYPES.STRSXP]"
      ]
     },
     "execution_count": 5,
     "metadata": {},
     "output_type": "execute_result"
    }
   ],
   "source": [
    "result"
   ]
  },
  {
   "cell_type": "code",
   "execution_count": 6,
   "metadata": {},
   "outputs": [
    {
     "data": {
      "text/html": [
       "<div>\n",
       "<style scoped>\n",
       "    .dataframe tbody tr th:only-of-type {\n",
       "        vertical-align: middle;\n",
       "    }\n",
       "\n",
       "    .dataframe tbody tr th {\n",
       "        vertical-align: top;\n",
       "    }\n",
       "\n",
       "    .dataframe thead th {\n",
       "        text-align: right;\n",
       "    }\n",
       "</style>\n",
       "<table border=\"1\" class=\"dataframe\">\n",
       "  <thead>\n",
       "    <tr style=\"text-align: right;\">\n",
       "      <th></th>\n",
       "      <th>ID</th>\n",
       "      <th>SITE</th>\n",
       "      <th>YEAR</th>\n",
       "      <th>EQR</th>\n",
       "      <th>EQR Metrics</th>\n",
       "    </tr>\n",
       "  </thead>\n",
       "  <tbody>\n",
       "    <tr>\n",
       "      <th>1</th>\n",
       "      <td>1</td>\n",
       "      <td>MYR-GB-01-R</td>\n",
       "      <td>2016</td>\n",
       "      <td>0.945434</td>\n",
       "      <td>AVG_ASPT</td>\n",
       "    </tr>\n",
       "    <tr>\n",
       "      <th>2</th>\n",
       "      <td>1</td>\n",
       "      <td>MYR-GB-01-R</td>\n",
       "      <td>2016</td>\n",
       "      <td>0.972966</td>\n",
       "      <td>AVG_ASPT</td>\n",
       "    </tr>\n",
       "    <tr>\n",
       "      <th>3</th>\n",
       "      <td>1</td>\n",
       "      <td>MYR-GB-01-R</td>\n",
       "      <td>2016</td>\n",
       "      <td>0.982756</td>\n",
       "      <td>AVG_ASPT</td>\n",
       "    </tr>\n",
       "    <tr>\n",
       "      <th>4</th>\n",
       "      <td>1</td>\n",
       "      <td>MYR-GB-01-R</td>\n",
       "      <td>2016</td>\n",
       "      <td>0.944572</td>\n",
       "      <td>AVG_ASPT</td>\n",
       "    </tr>\n",
       "    <tr>\n",
       "      <th>5</th>\n",
       "      <td>1</td>\n",
       "      <td>MYR-GB-01-R</td>\n",
       "      <td>2016</td>\n",
       "      <td>0.936237</td>\n",
       "      <td>AVG_ASPT</td>\n",
       "    </tr>\n",
       "    <tr>\n",
       "      <th>...</th>\n",
       "      <td>...</td>\n",
       "      <td>...</td>\n",
       "      <td>...</td>\n",
       "      <td>...</td>\n",
       "      <td>...</td>\n",
       "    </tr>\n",
       "    <tr>\n",
       "      <th>300026</th>\n",
       "      <td>10</td>\n",
       "      <td>MYR-GB-12-D</td>\n",
       "      <td>2016</td>\n",
       "      <td>5.000000</td>\n",
       "      <td>MINTA</td>\n",
       "    </tr>\n",
       "    <tr>\n",
       "      <th>300027</th>\n",
       "      <td>10</td>\n",
       "      <td>MYR-GB-12-D</td>\n",
       "      <td>2016</td>\n",
       "      <td>5.000000</td>\n",
       "      <td>MINTA</td>\n",
       "    </tr>\n",
       "    <tr>\n",
       "      <th>300028</th>\n",
       "      <td>10</td>\n",
       "      <td>MYR-GB-12-D</td>\n",
       "      <td>2016</td>\n",
       "      <td>NaN</td>\n",
       "      <td>ALL_SEASONS_ASPT</td>\n",
       "    </tr>\n",
       "    <tr>\n",
       "      <th>300029</th>\n",
       "      <td>10</td>\n",
       "      <td>MYR-GB-12-D</td>\n",
       "      <td>2016</td>\n",
       "      <td>NaN</td>\n",
       "      <td>ALL_SEASONS_NTAXA</td>\n",
       "    </tr>\n",
       "    <tr>\n",
       "      <th>300030</th>\n",
       "      <td>10</td>\n",
       "      <td>MYR-GB-12-D</td>\n",
       "      <td>2016</td>\n",
       "      <td>NaN</td>\n",
       "      <td>ALL_SEASONS_MINTA</td>\n",
       "    </tr>\n",
       "  </tbody>\n",
       "</table>\n",
       "<p>300030 rows × 5 columns</p>\n",
       "</div>"
      ],
      "text/plain": [
       "        ID         SITE  YEAR       EQR        EQR Metrics\n",
       "1        1  MYR-GB-01-R  2016  0.945434           AVG_ASPT\n",
       "2        1  MYR-GB-01-R  2016  0.972966           AVG_ASPT\n",
       "3        1  MYR-GB-01-R  2016  0.982756           AVG_ASPT\n",
       "4        1  MYR-GB-01-R  2016  0.944572           AVG_ASPT\n",
       "5        1  MYR-GB-01-R  2016  0.936237           AVG_ASPT\n",
       "...     ..          ...   ...       ...                ...\n",
       "300026  10  MYR-GB-12-D  2016  5.000000              MINTA\n",
       "300027  10  MYR-GB-12-D  2016  5.000000              MINTA\n",
       "300028  10  MYR-GB-12-D  2016       NaN   ALL_SEASONS_ASPT\n",
       "300029  10  MYR-GB-12-D  2016       NaN  ALL_SEASONS_NTAXA\n",
       "300030  10  MYR-GB-12-D  2016       NaN  ALL_SEASONS_MINTA\n",
       "\n",
       "[300030 rows x 5 columns]"
      ]
     },
     "execution_count": 6,
     "metadata": {},
     "output_type": "execute_result"
    }
   ],
   "source": [
    "with localconverter(ro.default_converter + pandas2ri.converter):\n",
    "  pd_from_r_df = ro.conversion.rpy2py(result)\n",
    "\n",
    "pd_from_r_df"
   ]
  },
  {
   "cell_type": "code",
   "execution_count": 7,
   "metadata": {},
   "outputs": [
    {
     "data": {
      "text/plain": [
       "<bound method NDFrame.keys of         ID         SITE  YEAR       EQR        EQR Metrics\n",
       "1        1  MYR-GB-01-R  2016  0.945434           AVG_ASPT\n",
       "2        1  MYR-GB-01-R  2016  0.972966           AVG_ASPT\n",
       "3        1  MYR-GB-01-R  2016  0.982756           AVG_ASPT\n",
       "4        1  MYR-GB-01-R  2016  0.944572           AVG_ASPT\n",
       "5        1  MYR-GB-01-R  2016  0.936237           AVG_ASPT\n",
       "...     ..          ...   ...       ...                ...\n",
       "300026  10  MYR-GB-12-D  2016  5.000000              MINTA\n",
       "300027  10  MYR-GB-12-D  2016  5.000000              MINTA\n",
       "300028  10  MYR-GB-12-D  2016       NaN   ALL_SEASONS_ASPT\n",
       "300029  10  MYR-GB-12-D  2016       NaN  ALL_SEASONS_NTAXA\n",
       "300030  10  MYR-GB-12-D  2016       NaN  ALL_SEASONS_MINTA\n",
       "\n",
       "[300030 rows x 5 columns]>"
      ]
     },
     "execution_count": 7,
     "metadata": {},
     "output_type": "execute_result"
    }
   ],
   "source": [
    "pd_from_r_df.keys"
   ]
  },
  {
   "cell_type": "code",
   "execution_count": 19,
   "metadata": {},
   "outputs": [
    {
     "data": {
      "image/png": "[encoded data removed]",
      "text/plain": [
       "<Figure size 640x480 with 1 Axes>"
      ]
     },
     "metadata": {},
     "output_type": "display_data"
    }
   ],
   "source": [
    "plt.hist(pd_from_r_df['EQR'], density=True, bins=40)\n",
    "plt.xlabel(\"EQR\")\n",
    "\n",
    "plt.show()"
   ]
  }
 ],
 "metadata": {
  "kernelspec": {
   "display_name": "general",
   "language": "python",
   "name": "python3"
  },
  "language_info": {
   "codemirror_mode": {
    "name": "ipython",
    "version": 3
   },
   "file_extension": ".py",
   "mimetype": "text/x-python",
   "name": "python",
   "nbconvert_exporter": "python",
   "pygments_lexer": "ipython3",
   "version": "3.9.18"
  }
 },
 "nbformat": 4,
 "nbformat_minor": 2
}
